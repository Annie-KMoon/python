{
 "cells": [
  {
   "cell_type": "code",
   "execution_count": 33,
   "id": "c4fcea60",
   "metadata": {},
   "outputs": [],
   "source": [
    "import pandas as pd"
   ]
  },
  {
   "cell_type": "code",
   "execution_count": 34,
   "id": "885b290f",
   "metadata": {},
   "outputs": [],
   "source": [
    "#KMeans 모델생성 함수\n",
    "def model_kmeans(K):\n",
    "    import pandas as pd\n",
    "    from sklearn.cluster import KMeans\n",
    "    kmeans = KMeans(n_clusters=K,random_state=0)\n",
    "\n",
    "    dataset = pd.read_csv('data/KMeansData.csv')\n",
    "    X=dataset.iloc[:,[0,1]].values \n",
    "    \n",
    "    from sklearn.preprocessing import StandardScaler\n",
    "    scaler = StandardScaler()\n",
    "    X_trans = scaler.fit_transform(X)\n",
    "    kmeans.fit(X_trans)\n",
    "\n",
    "    centers_org = scaler.inverse_transform(kmeans.cluster_centers_)\n",
    "    \n",
    "    return kmeans, X, X_trans, centers_org"
   ]
  },
  {
   "cell_type": "code",
   "execution_count": 35,
   "id": "a7beb708",
   "metadata": {},
   "outputs": [
    {
     "data": {
      "text/html": [
       "<div>\n",
       "<style scoped>\n",
       "    .dataframe tbody tr th:only-of-type {\n",
       "        vertical-align: middle;\n",
       "    }\n",
       "\n",
       "    .dataframe tbody tr th {\n",
       "        vertical-align: top;\n",
       "    }\n",
       "\n",
       "    .dataframe thead th {\n",
       "        text-align: right;\n",
       "    }\n",
       "</style>\n",
       "<table border=\"1\" class=\"dataframe\">\n",
       "  <thead>\n",
       "    <tr style=\"text-align: right;\">\n",
       "      <th></th>\n",
       "      <th>학생번호</th>\n",
       "      <th>학생이름</th>\n",
       "      <th>학생학과</th>\n",
       "      <th>학년</th>\n",
       "      <th>생년월일</th>\n",
       "      <th>지도교수</th>\n",
       "    </tr>\n",
       "  </thead>\n",
       "  <tbody>\n",
       "    <tr>\n",
       "      <th>0</th>\n",
       "      <td>92414029</td>\n",
       "      <td>서연우</td>\n",
       "      <td>전산</td>\n",
       "      <td>3</td>\n",
       "      <td>73/10/06</td>\n",
       "      <td>228</td>\n",
       "    </tr>\n",
       "    <tr>\n",
       "      <th>1</th>\n",
       "      <td>92414033</td>\n",
       "      <td>김창덕</td>\n",
       "      <td>전산</td>\n",
       "      <td>4</td>\n",
       "      <td>73/10/26</td>\n",
       "      <td>221</td>\n",
       "    </tr>\n",
       "    <tr>\n",
       "      <th>2</th>\n",
       "      <td>92514009</td>\n",
       "      <td>이지행</td>\n",
       "      <td>전자</td>\n",
       "      <td>4</td>\n",
       "      <td>73/11/16</td>\n",
       "      <td>311</td>\n",
       "    </tr>\n",
       "    <tr>\n",
       "      <th>3</th>\n",
       "      <td>92514023</td>\n",
       "      <td>김형명</td>\n",
       "      <td>전자</td>\n",
       "      <td>4</td>\n",
       "      <td>73/08/29</td>\n",
       "      <td>311</td>\n",
       "    </tr>\n",
       "    <tr>\n",
       "      <th>4</th>\n",
       "      <td>92454018</td>\n",
       "      <td>이원구</td>\n",
       "      <td>건축</td>\n",
       "      <td>3</td>\n",
       "      <td>74/09/30</td>\n",
       "      <td>509</td>\n",
       "    </tr>\n",
       "  </tbody>\n",
       "</table>\n",
       "</div>"
      ],
      "text/plain": [
       "       학생번호 학생이름 학생학과  학년      생년월일  지도교수\n",
       "0  92414029  서연우   전산   3  73/10/06   228\n",
       "1  92414033  김창덕   전산   4  73/10/26   221\n",
       "2  92514009  이지행   전자   4  73/11/16   311\n",
       "3  92514023  김형명   전자   4  73/08/29   311\n",
       "4  92454018  이원구   건축   3  74/09/30   509"
      ]
     },
     "execution_count": 35,
     "metadata": {},
     "output_type": "execute_result"
    }
   ],
   "source": [
    "df_stu = pd.read_csv('data/학사관리/학생.csv')\n",
    "df_stu.head()"
   ]
  },
  {
   "cell_type": "code",
   "execution_count": 36,
   "id": "98f73b4d",
   "metadata": {},
   "outputs": [
    {
     "data": {
      "text/html": [
       "<div>\n",
       "<style scoped>\n",
       "    .dataframe tbody tr th:only-of-type {\n",
       "        vertical-align: middle;\n",
       "    }\n",
       "\n",
       "    .dataframe tbody tr th {\n",
       "        vertical-align: top;\n",
       "    }\n",
       "\n",
       "    .dataframe thead th {\n",
       "        text-align: right;\n",
       "    }\n",
       "</style>\n",
       "<table border=\"1\" class=\"dataframe\">\n",
       "  <thead>\n",
       "    <tr style=\"text-align: right;\">\n",
       "      <th></th>\n",
       "      <th>교수번호</th>\n",
       "      <th>교수이름</th>\n",
       "      <th>교수학과</th>\n",
       "      <th>임용일</th>\n",
       "      <th>교수직급</th>\n",
       "      <th>급여</th>\n",
       "    </tr>\n",
       "  </thead>\n",
       "  <tbody>\n",
       "    <tr>\n",
       "      <th>0</th>\n",
       "      <td>221</td>\n",
       "      <td>이병렬</td>\n",
       "      <td>전산</td>\n",
       "      <td>75/04/03</td>\n",
       "      <td>정교수</td>\n",
       "      <td>3000000</td>\n",
       "    </tr>\n",
       "    <tr>\n",
       "      <th>1</th>\n",
       "      <td>228</td>\n",
       "      <td>이재광</td>\n",
       "      <td>전산</td>\n",
       "      <td>91/09/19</td>\n",
       "      <td>부교수</td>\n",
       "      <td>2500000</td>\n",
       "    </tr>\n",
       "    <tr>\n",
       "      <th>2</th>\n",
       "      <td>311</td>\n",
       "      <td>강승일</td>\n",
       "      <td>전자</td>\n",
       "      <td>94/06/09</td>\n",
       "      <td>부교수</td>\n",
       "      <td>2300000</td>\n",
       "    </tr>\n",
       "    <tr>\n",
       "      <th>3</th>\n",
       "      <td>509</td>\n",
       "      <td>오문환</td>\n",
       "      <td>건축</td>\n",
       "      <td>92/10/14</td>\n",
       "      <td>조교수</td>\n",
       "      <td>2000000</td>\n",
       "    </tr>\n",
       "  </tbody>\n",
       "</table>\n",
       "</div>"
      ],
      "text/plain": [
       "   교수번호 교수이름 교수학과       임용일 교수직급       급여\n",
       "0   221  이병렬   전산  75/04/03  정교수  3000000\n",
       "1   228  이재광   전산  91/09/19  부교수  2500000\n",
       "2   311  강승일   전자  94/06/09  부교수  2300000\n",
       "3   509  오문환   건축  92/10/14  조교수  2000000"
      ]
     },
     "execution_count": 36,
     "metadata": {},
     "output_type": "execute_result"
    }
   ],
   "source": [
    "df_pro = pd.read_csv('data/학사관리/교수.csv')\n",
    "df_pro "
   ]
  },
  {
   "cell_type": "code",
   "execution_count": 37,
   "id": "e8b51a13",
   "metadata": {},
   "outputs": [
    {
     "name": "stdout",
     "output_type": "stream",
     "text": [
      "['서연우', '김창덕', '이지행', '김형명', '이원구', '이재영', '박혜경', '김수정', '홍길동', '이병렬', '이재광', '강승일', '오문환']\n"
     ]
    }
   ],
   "source": [
    "stu = list(df_stu['학생이름'])\n",
    "pro = list(df_pro['교수이름'])\n",
    "names = stu+pro\n",
    "len(names)\n",
    "print(names)"
   ]
  },
  {
   "cell_type": "code",
   "execution_count": 38,
   "id": "1fffc45b",
   "metadata": {},
   "outputs": [
    {
     "data": {
      "text/html": [
       "<div>\n",
       "<style scoped>\n",
       "    .dataframe tbody tr th:only-of-type {\n",
       "        vertical-align: middle;\n",
       "    }\n",
       "\n",
       "    .dataframe tbody tr th {\n",
       "        vertical-align: top;\n",
       "    }\n",
       "\n",
       "    .dataframe thead th {\n",
       "        text-align: right;\n",
       "    }\n",
       "</style>\n",
       "<table border=\"1\" class=\"dataframe\">\n",
       "  <thead>\n",
       "    <tr style=\"text-align: right;\">\n",
       "      <th></th>\n",
       "      <th>hour</th>\n",
       "      <th>score</th>\n",
       "      <th>name</th>\n",
       "    </tr>\n",
       "  </thead>\n",
       "  <tbody>\n",
       "    <tr>\n",
       "      <th>0</th>\n",
       "      <td>7.33</td>\n",
       "      <td>73</td>\n",
       "      <td></td>\n",
       "    </tr>\n",
       "    <tr>\n",
       "      <th>1</th>\n",
       "      <td>3.71</td>\n",
       "      <td>55</td>\n",
       "      <td></td>\n",
       "    </tr>\n",
       "    <tr>\n",
       "      <th>2</th>\n",
       "      <td>3.43</td>\n",
       "      <td>55</td>\n",
       "      <td></td>\n",
       "    </tr>\n",
       "    <tr>\n",
       "      <th>3</th>\n",
       "      <td>3.06</td>\n",
       "      <td>89</td>\n",
       "      <td></td>\n",
       "    </tr>\n",
       "    <tr>\n",
       "      <th>4</th>\n",
       "      <td>3.33</td>\n",
       "      <td>79</td>\n",
       "      <td></td>\n",
       "    </tr>\n",
       "  </tbody>\n",
       "</table>\n",
       "</div>"
      ],
      "text/plain": [
       "   hour  score name\n",
       "0  7.33     73     \n",
       "1  3.71     55     \n",
       "2  3.43     55     \n",
       "3  3.06     89     \n",
       "4  3.33     79     "
      ]
     },
     "execution_count": 38,
     "metadata": {},
     "output_type": "execute_result"
    }
   ],
   "source": [
    "df = pd.read_csv('data/KMeansData.csv')\n",
    "df['name']=''\n",
    "df.head()"
   ]
  },
  {
   "cell_type": "code",
   "execution_count": 39,
   "id": "e3f10b1b",
   "metadata": {},
   "outputs": [
    {
     "data": {
      "text/plain": [
       "(3, '김형명')"
      ]
     },
     "execution_count": 39,
     "metadata": {},
     "output_type": "execute_result"
    }
   ],
   "source": [
    "import random\n",
    "idx = random. randint(0, len(names)-1)\n",
    "idx, names[idx]"
   ]
  },
  {
   "cell_type": "code",
   "execution_count": 40,
   "id": "214c9684",
   "metadata": {},
   "outputs": [],
   "source": [
    "for i in range(len(df)):\n",
    "    import random\n",
    "    idx = random. randint(0, len(names)-1)\n",
    "    df.loc[i, 'name'] = names[idx]"
   ]
  },
  {
   "cell_type": "code",
   "execution_count": 41,
   "id": "a9f31bf5",
   "metadata": {},
   "outputs": [
    {
     "data": {
      "text/html": [
       "<div>\n",
       "<style scoped>\n",
       "    .dataframe tbody tr th:only-of-type {\n",
       "        vertical-align: middle;\n",
       "    }\n",
       "\n",
       "    .dataframe tbody tr th {\n",
       "        vertical-align: top;\n",
       "    }\n",
       "\n",
       "    .dataframe thead th {\n",
       "        text-align: right;\n",
       "    }\n",
       "</style>\n",
       "<table border=\"1\" class=\"dataframe\">\n",
       "  <thead>\n",
       "    <tr style=\"text-align: right;\">\n",
       "      <th></th>\n",
       "      <th>hour</th>\n",
       "      <th>score</th>\n",
       "      <th>name</th>\n",
       "    </tr>\n",
       "  </thead>\n",
       "  <tbody>\n",
       "    <tr>\n",
       "      <th>95</th>\n",
       "      <td>6.21</td>\n",
       "      <td>56</td>\n",
       "      <td>오문환</td>\n",
       "    </tr>\n",
       "    <tr>\n",
       "      <th>96</th>\n",
       "      <td>7.76</td>\n",
       "      <td>84</td>\n",
       "      <td>홍길동</td>\n",
       "    </tr>\n",
       "    <tr>\n",
       "      <th>97</th>\n",
       "      <td>5.22</td>\n",
       "      <td>87</td>\n",
       "      <td>이지행</td>\n",
       "    </tr>\n",
       "    <tr>\n",
       "      <th>98</th>\n",
       "      <td>6.65</td>\n",
       "      <td>13</td>\n",
       "      <td>이병렬</td>\n",
       "    </tr>\n",
       "    <tr>\n",
       "      <th>99</th>\n",
       "      <td>2.46</td>\n",
       "      <td>30</td>\n",
       "      <td>서연우</td>\n",
       "    </tr>\n",
       "  </tbody>\n",
       "</table>\n",
       "</div>"
      ],
      "text/plain": [
       "    hour  score name\n",
       "95  6.21     56  오문환\n",
       "96  7.76     84  홍길동\n",
       "97  5.22     87  이지행\n",
       "98  6.65     13  이병렬\n",
       "99  2.46     30  서연우"
      ]
     },
     "execution_count": 41,
     "metadata": {},
     "output_type": "execute_result"
    }
   ],
   "source": [
    "df.tail()"
   ]
  },
  {
   "cell_type": "code",
   "execution_count": 45,
   "id": "b4b81b03",
   "metadata": {},
   "outputs": [
    {
     "data": {
      "text/html": [
       "<div>\n",
       "<style scoped>\n",
       "    .dataframe tbody tr th:only-of-type {\n",
       "        vertical-align: middle;\n",
       "    }\n",
       "\n",
       "    .dataframe tbody tr th {\n",
       "        vertical-align: top;\n",
       "    }\n",
       "\n",
       "    .dataframe thead th {\n",
       "        text-align: right;\n",
       "    }\n",
       "</style>\n",
       "<table border=\"1\" class=\"dataframe\">\n",
       "  <thead>\n",
       "    <tr style=\"text-align: right;\">\n",
       "      <th></th>\n",
       "      <th>hour</th>\n",
       "      <th>score</th>\n",
       "      <th>name</th>\n",
       "      <th>cluster</th>\n",
       "    </tr>\n",
       "  </thead>\n",
       "  <tbody>\n",
       "    <tr>\n",
       "      <th>95</th>\n",
       "      <td>6.21</td>\n",
       "      <td>56</td>\n",
       "      <td>오문환</td>\n",
       "      <td>0</td>\n",
       "    </tr>\n",
       "    <tr>\n",
       "      <th>96</th>\n",
       "      <td>7.76</td>\n",
       "      <td>84</td>\n",
       "      <td>홍길동</td>\n",
       "      <td>1</td>\n",
       "    </tr>\n",
       "    <tr>\n",
       "      <th>97</th>\n",
       "      <td>5.22</td>\n",
       "      <td>87</td>\n",
       "      <td>이지행</td>\n",
       "      <td>0</td>\n",
       "    </tr>\n",
       "    <tr>\n",
       "      <th>98</th>\n",
       "      <td>6.65</td>\n",
       "      <td>13</td>\n",
       "      <td>이병렬</td>\n",
       "      <td>2</td>\n",
       "    </tr>\n",
       "    <tr>\n",
       "      <th>99</th>\n",
       "      <td>2.46</td>\n",
       "      <td>30</td>\n",
       "      <td>서연우</td>\n",
       "      <td>3</td>\n",
       "    </tr>\n",
       "  </tbody>\n",
       "</table>\n",
       "</div>"
      ],
      "text/plain": [
       "    hour  score name  cluster\n",
       "95  6.21     56  오문환        0\n",
       "96  7.76     84  홍길동        1\n",
       "97  5.22     87  이지행        0\n",
       "98  6.65     13  이병렬        2\n",
       "99  2.46     30  서연우        3"
      ]
     },
     "execution_count": 45,
     "metadata": {},
     "output_type": "execute_result"
    }
   ],
   "source": [
    "kmeans, X, X_trans, centers_org = model_kmeans(4)\n",
    "y_pred = kmeans.fit_predict(X_trans)\n",
    "df['cluster'] = y_pred\n",
    "df.tail()"
   ]
  },
  {
   "cell_type": "code",
   "execution_count": 64,
   "id": "fa2f8bce",
   "metadata": {},
   "outputs": [
    {
     "name": "stdout",
     "output_type": "stream",
     "text": [
      "0그룹26명................................\n",
      "1:이원구3:김창덕4:김수정7:홍길동9:박혜경10:박혜경15:강승일19:김수정21:강승일33:김창덕\n",
      "37:박혜경38:오문환39:강승일47:김수정51:이원구54:이재광55:강승일56:이재광57:김창덕67:이병렬\n",
      "78:이병렬85:김수정90:박혜경92:이원구95:오문환97:이지행\n",
      "------------------------------------------------------------\n",
      "1그룹24명................................\n",
      "0:이지행8:이지행17:오문환24:이병렬25:박혜경34:강승일35:김수정42:이지행45:김창덕50:김창덕\n",
      "61:이병렬62:오문환63:김수정64:이원구69:이재광71:김형명72:이병렬73:이병렬79:이재광81:이재영\n",
      "84:오문환88:김창덕93:이원구96:홍길동\n",
      "------------------------------------------------------------\n",
      "2그룹25명................................\n",
      "5:김창덕6:서연우12:이지행16:이원구20:오문환23:이병렬30:이병렬31:이재광41:이재영46:김형명\n",
      "48:이원구49:김수정52:이원구53:서연우59:이지행60:이원구65:김수정66:홍길동68:이병렬80:이지행\n",
      "82:박혜경83:오문환87:서연우91:서연우98:이병렬\n",
      "------------------------------------------------------------\n",
      "3그룹25명................................\n",
      "2:홍길동11:오문환13:박혜경14:이원구18:이병렬22:이지행26:강승일27:김창덕28:오문환29:김창덕\n",
      "32:김수정36:홍길동40:이재광43:강승일44:김형명58:서연우70:이재광74:이원구75:박혜경76:김창덕\n",
      "77:이원구86:김창덕89:김수정94:김수정99:서연우\n",
      "------------------------------------------------------------\n"
     ]
    }
   ],
   "source": [
    "for i in range(4):\n",
    "    filt = df['cluster']==i\n",
    "    df2 = df[filt]\n",
    "    print(f'{i}그룹{len(df2)}명................................')\n",
    "    # names = df2['name']\n",
    "    index = df2.index\n",
    "\n",
    "    count=0\n",
    "    for idx in index:\n",
    "        print(f'{idx}:{df.loc[idx,\"name\"]}', end='')\n",
    "        count +=1\n",
    "        if count%10==0: print()\n",
    "    print()\n",
    "    print('-'*60)\n"
   ]
  },
  {
   "cell_type": "code",
   "execution_count": null,
   "id": "cf38683d",
   "metadata": {},
   "outputs": [],
   "source": []
  },
  {
   "cell_type": "code",
   "execution_count": null,
   "id": "0f362aba",
   "metadata": {},
   "outputs": [],
   "source": []
  },
  {
   "cell_type": "code",
   "execution_count": null,
   "id": "b3dd948e",
   "metadata": {},
   "outputs": [],
   "source": []
  },
  {
   "cell_type": "code",
   "execution_count": null,
   "id": "f611a13c",
   "metadata": {},
   "outputs": [],
   "source": []
  }
 ],
 "metadata": {
  "kernelspec": {
   "display_name": "Python 3",
   "language": "python",
   "name": "python3"
  },
  "language_info": {
   "codemirror_mode": {
    "name": "ipython",
    "version": 3
   },
   "file_extension": ".py",
   "mimetype": "text/x-python",
   "name": "python",
   "nbconvert_exporter": "python",
   "pygments_lexer": "ipython3",
   "version": "3.10.10"
  }
 },
 "nbformat": 4,
 "nbformat_minor": 5
}
